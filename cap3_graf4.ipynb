{
  "nbformat": 4,
  "nbformat_minor": 0,
  "metadata": {
    "colab": {
      "name": "cap3_graf4.ipynb",
      "provenance": [],
      "authorship_tag": "ABX9TyM86qz++Z05YRPdX77uqxNH",
      "include_colab_link": true
    },
    "kernelspec": {
      "name": "python3",
      "display_name": "Python 3"
    },
    "language_info": {
      "name": "python"
    }
  },
  "cells": [
    {
      "cell_type": "markdown",
      "metadata": {
        "id": "view-in-github",
        "colab_type": "text"
      },
      "source": [
        "<a href=\"https://colab.research.google.com/github/Elineips/Programas_Python/blob/main/cap3_graf4.ipynb\" target=\"_parent\"><img src=\"https://colab.research.google.com/assets/colab-badge.svg\" alt=\"Open In Colab\"/></a>"
      ]
    },
    {
      "cell_type": "markdown",
      "metadata": {
        "id": "LrRSG_nFFcvJ"
      },
      "source": [
        ""
      ]
    },
    {
      "cell_type": "markdown",
      "metadata": {
        "id": "j_jE1P7VFdXp"
      },
      "source": [
        "#Exemplo de programa feito no IDLE do Python e executado no Colab"
      ]
    },
    {
      "cell_type": "code",
      "metadata": {
        "colab": {
          "base_uri": "https://localhost:8080/",
          "height": 288
        },
        "id": "pXZ0c2AzFFAB",
        "outputId": "bb9f2999-e2ec-44d0-9ffd-01b6ef7112ea"
      },
      "source": [
        "#cap3_graf4.py\n",
        "'''Exemplo de grafico simples com matplotlib\n",
        "importando todos os metodos\n",
        "Programador: Elinei Santos\n",
        "Data da ultima revisao: 26/12/2016'''\n",
        "\n",
        "from matplotlib.pylab import *\n",
        "from math import *\n",
        "t = linspace(0,50,200)\n",
        "y1 = zeros(len(t))\n",
        "y2 = zeros(len(t))\n",
        "y3 = zeros(len(t))\n",
        "for i in arange(len(t)):\n",
        "    f1 = 4*exp(-0.1*t[i])*cos(1.2*t[i]+pi/6)\n",
        "    f2 = 4*exp(-0.2*t[i])+2*exp(-0.2*t[i])\n",
        "    f3 = (2.+3*t[i])*exp(-0.3*t[i])\n",
        "    y1[i] = f1\n",
        "    y2[i] = f2\n",
        "    y3[i] = f3\n",
        "plot(t,y1,'bo')\n",
        "plot(t,y2,'r^')\n",
        "plot(t,y3,'ms')\n",
        "xlabel('tempo(s)', fontsize = 15)\n",
        "ylabel('y(m)', fontsize = 15)\n",
        "legend(['f1', 'f2', 'f3'],loc=1)\n",
        "axis([0,50, -6,6])\n",
        "show()"
      ],
      "execution_count": 2,
      "outputs": [
        {
          "output_type": "display_data",
          "data": {
            "image/png": "[encoded data removed]",
            "text/plain": [
              "<Figure size 432x288 with 1 Axes>"
            ]
          },
          "metadata": {
            "tags": [],
            "needs_background": "light"
          }
        }
      ]
    },
    {
      "cell_type": "markdown",
      "metadata": {
        "id": "CtwHfl05FYHa"
      },
      "source": [
        ""
      ]
    }
  ]
}